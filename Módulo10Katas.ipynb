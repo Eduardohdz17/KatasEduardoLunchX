{
 "cells": [
  {
   "cell_type": "markdown",
   "metadata": {},
   "source": [
    "Kata 10 :D"
   ]
  },
  {
   "cell_type": "code",
   "execution_count": null,
   "metadata": {},
   "outputs": [],
   "source": [
    "open(\"/path/to/mars.jpg\")"
   ]
  },
  {
   "cell_type": "code",
   "execution_count": null,
   "metadata": {},
   "outputs": [],
   "source": [
    "try:\n",
    "    open('config.txt')\n",
    "except FileNotFoundError:\n",
    "    print(\"Couldn't find the config.txt file!\")"
   ]
  },
  {
   "cell_type": "code",
   "execution_count": null,
   "metadata": {},
   "outputs": [],
   "source": [
    "def main():\n",
    "    try:\n",
    "        configuration = open('config.txt')\n",
    "    except Exception:\n",
    "        print('No se encontro el archivo')\n",
    "\n",
    "if __name__ == '__main__':\n",
    "    main()"
   ]
  },
  {
   "cell_type": "code",
   "execution_count": null,
   "metadata": {},
   "outputs": [],
   "source": [
    "def main():\n",
    "    try:\n",
    "        configuration = open('config.txt')\n",
    "    except FileNotFoundError:\n",
    "        print('No se encontro el archivo')\n",
    "    except IsADirectoryError:\n",
    "        print('Esto es una carpeta')\n",
    "\n",
    "if __name__ == '__main__':\n",
    "    main()"
   ]
  },
  {
   "cell_type": "code",
   "execution_count": null,
   "metadata": {},
   "outputs": [],
   "source": [
    "def main():\n",
    "    try:\n",
    "        configuration = open('config.txt')\n",
    "    except FileNotFoundError:\n",
    "        print('No se encontro el archivo')\n",
    "    except IsADirectoryError:\n",
    "        print('Esto es una carpeta')\n",
    "    except (BlockingIOError, TimeoutError):\n",
    "        print(\"Algo de la carga el archivo\")\n",
    "\n",
    "if __name__ == '__main__':\n",
    "    main()"
   ]
  },
  {
   "cell_type": "code",
   "execution_count": null,
   "metadata": {},
   "outputs": [],
   "source": [
    "def main():\n",
    "    try:\n",
    "        configuration = open('config.txt')\n",
    "    except FileNotFoundError as err:\n",
    "        print('No se encontro el archivo', err)\n",
    "    except IsADirectoryError:\n",
    "        print('Esto es una carpeta')\n",
    "    except (BlockingIOError, TimeoutError):\n",
    "        print(\"Algo de la carga el archivo\")\n",
    "\n",
    "if __name__ == '__main__':\n",
    "    main()"
   ]
  },
  {
   "cell_type": "code",
   "execution_count": null,
   "metadata": {},
   "outputs": [],
   "source": [
    "def main():\n",
    "    try:\n",
    "        configuration = open('config.txt')\n",
    "    except FileNotFoundError as err:\n",
    "        if err.errno == 2:\n",
    "            print('no encontramos el archivo')\n",
    "        elif err.errno == 13:\n",
    "            print('lo econtramos, pero no es un txt')\n",
    "    print('otra cosa')\n",
    "\n",
    "if __name__ == '__main__':\n",
    "    main()"
   ]
  },
  {
   "cell_type": "code",
   "execution_count": null,
   "metadata": {},
   "outputs": [],
   "source": [
    "def aguita(astro, aguaQueda, diasQuedan):\n",
    "    usoDiario = astro * 11\n",
    "    totalUsado = usoDiario * diasQuedan\n",
    "    totalDeAgua = aguaQueda - totalUsado\n",
    "    if totalDeAgua < 0:\n",
    "        raise RuntimeError(f'No hay suficiente agua para {astro} astronautas despues de {diasQuedan} Dias')\n",
    "    return f'Total de agua para {diasQuedan} dias es: {totalDeAgua} litros ' \n",
    "\n",
    "aguita(5, 100, 2)"
   ]
  },
  {
   "cell_type": "code",
   "execution_count": null,
   "metadata": {},
   "outputs": [],
   "source": [
    "try:\n",
    "    aguita(10, 300, 4)\n",
    "except RuntimeError as err:\n",
    "    print('Este error',err)"
   ]
  },
  {
   "cell_type": "code",
   "execution_count": null,
   "metadata": {},
   "outputs": [],
   "source": [
    "def aguita(astro, aguaQueda, diasQuedan):\n",
    "    for argument in [astro, aguaQueda, diasQuedan]:\n",
    "        try:\n",
    "            argument / 10\n",
    "        except TypeError:\n",
    "            raise TypeError(f\"Probando el numero pero... recibimos: '{argument}'\")\n",
    "    usoDiario = astro * 11\n",
    "    totalUsado = usoDiario * diasQuedan\n",
    "    aguaFaltante = aguaQueda - totalUsado\n",
    "    if aguaFaltante < 0:\n",
    "        raise RuntimeError(f\"There is not enough water for {astro} astronauts after {diasQuedan} days!\")\n",
    "    return f\"Total water left after {diasQuedan} days is: {aguaFaltante} liters\"\n",
    "\n",
    "aguita(1, 'palabra', 2)"
   ]
  }
 ],
 "metadata": {
  "interpreter": {
   "hash": "8fb142dd639913df4cdc9c14e7514fb011e892d0987cfe041c4dd5e6c198fa91"
  },
  "kernelspec": {
   "display_name": "Python 3.10.2 64-bit (windows store)",
   "language": "python",
   "name": "python3"
  },
  "language_info": {
   "codemirror_mode": {
    "name": "ipython",
    "version": 3
   },
   "file_extension": ".py",
   "mimetype": "text/x-python",
   "name": "python",
   "nbconvert_exporter": "python",
   "pygments_lexer": "ipython3",
   "version": "3.10.2"
  },
  "orig_nbformat": 4
 },
 "nbformat": 4,
 "nbformat_minor": 2
}
