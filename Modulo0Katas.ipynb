{
 "cells": [
  {
   "cell_type": "markdown",
   "metadata": {},
   "source": [
    "# Manual de la Nave"
   ]
  },
  {
   "cell_type": "code",
   "execution_count": null,
   "metadata": {},
   "outputs": [],
   "source": [
    "pip install ipywidgets"
   ]
  },
  {
   "cell_type": "code",
   "execution_count": null,
   "metadata": {},
   "outputs": [],
   "source": [
    "import ipywidgets as widgets\n",
    "ignition = widgets.ToggleButton(\n",
    "    value=False,\n",
    "    description=\"Iniciar Launch\",\n",
    "    button_style='success',\n",
    "    tooltip='Engage your Launch',\n",
    "    icon='rocket'\n",
    ")\n",
    "\n",
    "test = widgets.ToggleButton(\n",
    "    value=False,\n",
    "    description=\"Probando cosas\",\n",
    "    button_style='warning',\n",
    "    icon='send'\n",
    ")\n",
    "\n",
    "output = widgets.Output()\n",
    "otroOutput = widgets.Output()\n",
    "\n",
    "display(ignition, output)\n",
    "display(test, otroOutput)\n",
    "\n",
    "def on_value_change(change):\n",
    "    with output:\n",
    "        if change['new'] == True:\n",
    "            print(\"Nave Iniciada!\")\n",
    "        else:\n",
    "            print(\"Nave Detenida\")\n",
    "\n",
    "def on_value(change):\n",
    "    with output:\n",
    "        if change['new'] == True:\n",
    "            print('test1')\n",
    "        else:\n",
    "            print('otro test')\n",
    "\n",
    "test.observe(on_value, names='value')\n",
    "ignition.observe(on_value_change, names='value')\n",
    "\n",
    "\"\"\" Python 3.10 Kernel para que funcione \"\"\"\n"
   ]
  },
  {
   "cell_type": "code",
   "execution_count": null,
   "metadata": {},
   "outputs": [],
   "source": [
    "!pip install matplotlib\n",
    "!pip install numpy"
   ]
  },
  {
   "cell_type": "markdown",
   "metadata": {},
   "source": [
    "## Niveles de Oxígeno\n",
    "Muestra diez minutos de niveles de oxígeno en tu nave."
   ]
  },
  {
   "cell_type": "code",
   "execution_count": null,
   "metadata": {},
   "outputs": [],
   "source": [
    "\n",
    "import matplotlib.pyplot as plt\n",
    "import numpy as nop\n",
    "data = nop.random.default_rng(12345)\n",
    "oxy_nums = data.integers(low=0, high=10, size=10)\n",
    "\n",
    "plt.bar(range(len(oxy_nums)), oxy_nums)\n",
    "plt.show()\n",
    "\n",
    "\"\"\" Python 3.8 Kernel para que funcione \"\"\"\n",
    "\"\"\"Tuve que cambiar el kernel en este ejercicio, ¿porque? no se, pero asi lo arregle :) \"\"\""
   ]
  },
  {
   "cell_type": "markdown",
   "metadata": {},
   "source": [
    "## Velocidad de la nave\n",
    "\n",
    "Muestra los segundos necesarios para pasar de 0 a 11200 metros por segundo, dada la aceleración\n",
    "de la nave en metros por segundo."
   ]
  },
  {
   "cell_type": "code",
   "execution_count": null,
   "metadata": {},
   "outputs": [],
   "source": [
    "endVelocity = 11200\n",
    "startVel = 0\n",
    "acceleration = 9.8\n",
    "\n",
    "time = (endVelocity - startVel) / acceleration\n",
    "print(\"tiempo para alcanzar la velocidad deseada = \", time)\n",
    "print(\"tiempo pero sin tanto decimal\", round(time,2))\n"
   ]
  }
 ],
 "metadata": {
  "interpreter": {
   "hash": "1517444adcbccca81fd88ba06ee29cfc1395a7402c23a316ff177dd73e6522cc"
  },
  "kernelspec": {
   "display_name": "Python 3.10.2 64-bit",
   "language": "python",
   "name": "python3"
  },
  "language_info": {
   "codemirror_mode": {
    "name": "ipython",
    "version": 3
   },
   "file_extension": ".py",
   "mimetype": "text/x-python",
   "name": "python",
   "nbconvert_exporter": "python",
   "pygments_lexer": "ipython3",
   "version": "3.8.3"
  },
  "orig_nbformat": 4
 },
 "nbformat": 4,
 "nbformat_minor": 2
}
